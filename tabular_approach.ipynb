{
 "cells": [
  {
   "cell_type": "code",
   "execution_count": 2,
   "metadata": {},
   "outputs": [],
   "source": [
    "import pandas as pd\n",
    "import numpy as np\n",
    "\n",
    "\n",
    "def clean_tabular(dataframe: pd.DataFrame) -> tuple[np.ndarray, np.ndarray, np.ndarray]:\n",
    "    return (\n",
    "        dataframe.drop(columns=[\"LABEL\"]).values,\n",
    "        np.array(dataframe[\"LABEL\"].values),\n",
    "        np.array(dataframe[\"patient_id\"].values),\n",
    "    )"
   ]
  },
  {
   "cell_type": "code",
   "execution_count": 6,
   "metadata": {},
   "outputs": [],
   "source": [
    "from src.dataset import load_train_csv, load_test_csv\n",
    "\n",
    "train_df, val_df = load_train_csv(fold_id=3, fold_numbers=4, add_file_path=False)\n",
    "X_train, y_train, id_train = clean_tabular(train_df)\n",
    "X_val, y_val, id_val = clean_tabular(val_df)"
   ]
  },
  {
   "cell_type": "code",
   "execution_count": 8,
   "metadata": {},
   "outputs": [
    {
     "name": "stdout",
     "output_type": "stream",
     "text": [
      "0.8408527535682708\n"
     ]
    }
   ],
   "source": [
    "from sklearn.linear_model import LogisticRegression\n",
    "from sklearn.metrics import balanced_accuracy_score\n",
    "\n",
    "scores = []\n",
    "test_pred = []\n",
    "\n",
    "total_folds = 4\n",
    "X_test, y_test, id_test = clean_tabular(load_test_csv(add_file_path=False))\n",
    "\n",
    "for fold in range(total_folds):\n",
    "    train_df, val_df = load_train_csv(\n",
    "        fold_id=fold, fold_numbers=total_folds, add_file_path=False\n",
    "    )\n",
    "    X_train, y_train, id_train = clean_tabular(train_df)\n",
    "    X_val, y_val, id_val = clean_tabular(val_df)\n",
    "    clf = LogisticRegression(random_state=0).fit(X_train, y_train)\n",
    "    y_pred = clf.predict(X_val)\n",
    "    scores.append(balanced_accuracy_score(y_val, y_pred))\n",
    "    test_pred.append(clf.predict(X_test))\n",
    "\n",
    "print(np.mean(scores))"
   ]
  },
  {
   "cell_type": "code",
   "execution_count": 9,
   "metadata": {},
   "outputs": [
    {
     "name": "stdout",
     "output_type": "stream",
     "text": [
      "0.7881422924901187\n"
     ]
    }
   ],
   "source": [
    "from sklearn.ensemble import RandomForestClassifier\n",
    "\n",
    "scores = []\n",
    "test_pred = []\n",
    "\n",
    "X_test, y_test, id_test = clean_tabular(load_test_csv(add_file_path=False))\n",
    "\n",
    "for fold in range(5):\n",
    "    train_df, val_df = load_train_csv(fold_id=fold, add_file_path=False)\n",
    "    X_train, y_train, id_train = clean_tabular(train_df)\n",
    "    X_val, y_val, id_val = clean_tabular(val_df)\n",
    "    clf = RandomForestClassifier(random_state=0).fit(X_train, y_train)\n",
    "    y_pred = clf.predict(X_val)\n",
    "    scores.append(balanced_accuracy_score(y_val, y_pred))\n",
    "    test_pred.append(clf.predict(X_test))\n",
    "\n",
    "print(np.mean(scores))"
   ]
  },
  {
   "cell_type": "code",
   "execution_count": 14,
   "metadata": {},
   "outputs": [],
   "source": [
    "prediction = np.array(test_pred)\n",
    "prediction = np.mean(prediction, axis=0)\n",
    "prediction = (prediction > 0.5).astype(int)\n",
    "\n",
    "patient_list = [f\"P{p}\" for p in id_test]\n",
    "\n",
    "submission = pd.DataFrame({\"Id\": patient_list, \"Predicted\": prediction})\n",
    "\n",
    "submission.to_csv(\"submission.csv\", index=False)"
   ]
  }
 ],
 "metadata": {
  "kernelspec": {
   "display_name": ".venv",
   "language": "python",
   "name": "python3"
  },
  "language_info": {
   "codemirror_mode": {
    "name": "ipython",
    "version": 3
   },
   "file_extension": ".py",
   "mimetype": "text/x-python",
   "name": "python",
   "nbconvert_exporter": "python",
   "pygments_lexer": "ipython3",
   "version": "3.11.4"
  }
 },
 "nbformat": 4,
 "nbformat_minor": 2
}
